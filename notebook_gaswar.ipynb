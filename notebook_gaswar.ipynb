{
 "cells": [
  {
   "cell_type": "code",
   "execution_count": 2,
   "id": "f40fa68e-681d-434a-bd35-75dec1e3e568",
   "metadata": {},
   "outputs": [
    {
     "name": "stdout",
     "output_type": "stream",
     "text": [
      "hello world\n"
     ]
    }
   ],
   "source": [
    "print(\"hello world\")\n",
    "      "
   ]
  },
  {
   "cell_type": "code",
   "execution_count": 1,
   "id": "93a16c9e-ef00-4192-a4b4-43a20f8b996e",
   "metadata": {},
   "outputs": [],
   "source": [
    "#testing"
   ]
  },
  {
   "cell_type": "code",
   "execution_count": 2,
   "id": "ae683928-fb85-466c-9ede-b98b0ef6f8b3",
   "metadata": {},
   "outputs": [
    {
     "name": "stdout",
     "output_type": "stream",
     "text": [
      "test\n"
     ]
    }
   ],
   "source": [
    "print(\"test\")"
   ]
  },
  {
   "cell_type": "markdown",
   "id": "c611cf59-304e-4336-900c-819ac8bdac4d",
   "metadata": {},
   "source": [
    "\n",
    "# Importing correct files:\n",
    "Using bash\n"
   ]
  },
  {
   "cell_type": "code",
   "execution_count": 26,
   "id": "fa6fbc16-09cb-41b2-baef-2a8cddee4204",
   "metadata": {},
   "outputs": [
    {
     "name": "stderr",
     "output_type": "stream",
     "text": [
      "/usr/share/lmod/lmod/init/bash: /usr/share/lmod/lmod/libexec/addto: /usr/bin/lua: bad interpreter: No such file or directory\n"
     ]
    },
    {
     "name": "stdout",
     "output_type": "stream",
     "text": [
      "Working directory set to /cephyr/NOBACKUP/groups/bbt045_2025/groups/group_gaswar/\n",
      "RNAseq-data in /cephyr/NOBACKUP/groups/bbt045_2025/Projects/Data/RNAseq\n"
     ]
    }
   ],
   "source": [
    "%%bash\n",
    "\n",
    "workdir=\"/cephyr/NOBACKUP/groups/bbt045_2025/groups/group_gaswar/\"\n",
    "echo \"Working directory set to $workdir\"\n",
    "\n",
    "RNAdata=\"/cephyr/NOBACKUP/groups/bbt045_2025/Projects/Data/RNAseq\"\n",
    "echo \"RNAseq-data in ${RNAdata}\"\n",
    "\n",
    "\n"
   ]
  },
  {
   "cell_type": "code",
   "execution_count": null,
   "id": "50f4a33d-bf29-4bdd-9ba3-208ca5724dbd",
   "metadata": {},
   "outputs": [],
   "source": []
  }
 ],
 "metadata": {
  "kernelspec": {
   "display_name": "Python 3 (ipykernel)",
   "language": "python",
   "name": "python3"
  },
  "language_info": {
   "codemirror_mode": {
    "name": "ipython",
    "version": 3
   },
   "file_extension": ".py",
   "mimetype": "text/x-python",
   "name": "python",
   "nbconvert_exporter": "python",
   "pygments_lexer": "ipython3",
   "version": "3.11.11"
  }
 },
 "nbformat": 4,
 "nbformat_minor": 5
}
