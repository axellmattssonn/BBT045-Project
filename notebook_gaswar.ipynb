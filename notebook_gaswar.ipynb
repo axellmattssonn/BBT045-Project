{
 "cells": [
  {
   "cell_type": "markdown",
   "id": "b492339c-7a3c-4e55-a515-f9a86e20a44c",
   "metadata": {},
   "source": [
    "# Gastric Warriors Differential gene expression analysis"
   ]
  },
  {
   "cell_type": "markdown",
   "id": "c611cf59-304e-4336-900c-819ac8bdac4d",
   "metadata": {},
   "source": [
    "\n",
    "\n",
    "Importing correct files: Using bash\n",
    "\n",
    "For running the jupyter make sure your in the correct directory: /cephyr/NOBACKUP/groups/bbt045_2025/groups/group_gaswar/\n"
   ]
  },
  {
   "cell_type": "code",
   "execution_count": null,
   "id": "fa6fbc16-09cb-41b2-baef-2a8cddee4204",
   "metadata": {},
   "outputs": [],
   "source": [
    "%%bash\n",
    "\n",
    "mkdir -p Data/\n",
    "workdir=\"/cephyr/NOBACKUP/groups/bbt045_2025/groups/group_gaswar/Data/\"\n",
    "echo \"Working directory set to $workdir\"\n",
    "\n",
    "RNAlist=\"/cephyr/NOBACKUP/groups/bbt045_2025/Projects/Data/RNA-seq-list.txt\"\n",
    "RNAdata=\"/cephyr/NOBACKUP/groups/bbt045_2025/Projects/Data/RNAseq/\"\n",
    "echo \"RNAseq-data in ${RNAdata}\"\n",
    "\n",
    "#extract the rows that contain the healthconditions and store the patient name (column 1) in a textfile\n",
    "grep \"Met\" $RNAlist | cut -f 1 > patients.txt\n",
    "grep \"Hp\" $RNAlist | cut -f 1 >> patients.txt\n",
    "\n",
    "#find the fastq-files that correspond to patient names and copy to the data-folder\n",
    "\n",
    "find $RNAdata -type f -name \"*_1.fastq.gz\" | grep -Ff patients.txt | xargs -I {} cp {} \"$workdir\"\n",
    "find $RNAdata -type f -name \"*_2.fastq.gz\" | grep -Ff patients.txt | xargs -I {} cp {} \"$workdir\""
   ]
  },
  {
   "cell_type": "markdown",
   "id": "467126d3-f738-4a95-8e3f-3f47ce105660",
   "metadata": {},
   "source": [
    "Create a CSV with patient list and health condition, which will be used later"
   ]
  },
  {
   "cell_type": "code",
   "execution_count": null,
   "id": "c6e7258f-ad5c-4336-9754-299be544c7d2",
   "metadata": {},
   "outputs": [],
   "source": [
    "%%bash\n",
    "\n",
    "#Create patient list\n",
    "RNAlist=\"/cephyr/NOBACKUP/groups/bbt045_2025/Projects/Data/RNA-seq-list.txt\"\n",
    "\n",
    "# Define the output file\n",
    "OUTPUT=\"patient_list.csv\"\n",
    "# Add CSV header\n",
    "echo \"PatientNumber,HealthCondition\" > $OUTPUT\n",
    "\n",
    "# Create patient_list.txt with \"Met\" and \"Hp\" conditions\n",
    "awk '{print $1, \",Met\"}' <(grep \"Met\" $RNAlist | cut -f1) >> $OUTPUT\n",
    "awk '{print $1, \",Hp\"}' <(grep \"Hp\" $RNAlist | cut -f1) >> $OUTPUT\n"
   ]
  },
  {
   "cell_type": "markdown",
   "id": "ccf9c36f-dbff-414f-a8c6-d2218d7ed4ac",
   "metadata": {},
   "source": [
    "Now decompress all the files"
   ]
  },
  {
   "cell_type": "code",
   "execution_count": null,
   "id": "a5acecd9-5780-4b4f-85b8-2326f9eedf39",
   "metadata": {},
   "outputs": [],
   "source": [
    "%%bash\n",
    "#set the working directory\n",
    "workdir=\"/cephyr/NOBACKUP/groups/bbt045_2025/groups/group_gaswar/Data/\"\n",
    "\n",
    "#use gzip to decrompress the files\n",
    "gzip -d \"${workdir}\"*"
   ]
  },
  {
   "cell_type": "markdown",
   "id": "a0c8c86e-9873-410c-b93e-97e4d3f4ebd2",
   "metadata": {},
   "source": [
    "# MultiQC"
   ]
  },
  {
   "cell_type": "code",
   "execution_count": null,
   "id": "0b15720e-c086-4482-8aaf-1232d5f21787",
   "metadata": {},
   "outputs": [],
   "source": [
    "#First generate fastQC reports, all files in Data and output to /subset_fastqc/\n",
    "! mkdir -p before_trim_fastqc\n",
    "! fastqc Data/*.fastq -o before_trim_fastqc/"
   ]
  },
  {
   "cell_type": "code",
   "execution_count": null,
   "id": "7230731f-8a91-4d92-83f3-9c8c23a2753d",
   "metadata": {},
   "outputs": [],
   "source": [
    "#Take entire subset_fastqc/ and generate multiqc-file\n",
    "! multiqc before_trim_fastqc/ -n multiqc_before_trim.html"
   ]
  },
  {
   "cell_type": "markdown",
   "id": "dfc7d074-0afe-4621-889d-7d4866590f0e",
   "metadata": {},
   "source": [
    "# Preprocessing using FastP\n",
    "> "
   ]
  },
  {
   "cell_type": "code",
   "execution_count": null,
   "id": "b1e71cd2-4aaa-4712-ba8b-f17a4f039dca",
   "metadata": {},
   "outputs": [],
   "source": [
    "%%bash\n",
    "\n",
    "#Output\n",
    "mkdir -p trimmed_fastq\n",
    "\n",
    "\n",
    "# Loop through all forward reads (_R1.fastq.gz.subset.fastq) and find their corresponding reverse reads (_R2.fastq.gz.subset.fastq)\n",
    "for R1 in Data/*_1.fastq; do\n",
    "    # Extract the sample name by removing _R1.fastq.gz.subset.fastq\n",
    "    SAMPLE=$(basename \"$R1\" _1.fastq)\n",
    "    # Define file names\n",
    "    R2=\"Data/${SAMPLE}_2.fastq\"         # Reverse read file\n",
    "\n",
    "    echo \"Checking: $R1 and $R2\"\n",
    "\n",
    "    OUT_R1=\"trimmed_fastq/${SAMPLE}_1_trimmed_fastq.gz\"\n",
    "    OUT_R2=\"trimmed_fastq/${SAMPLE}_2_trimmed_fastq.gz\"\n",
    "    # Run fastp, input for -i and -I (Forward and Reverse reads), output into OUT_ R1 and R2. Filter scores under 30, and better trimming with cut_right and cut_front\n",
    "    fastp -i \"$R1\" -I \"$R2\" -o \"$OUT_R1\" -O \"$OUT_R2\" \\\n",
    "        --qualified_quality_phred 30 \\\n",
    "        --cut_right \\\n",
    "        --cut_right_window_size 4 \\\n",
    "        --cut_right_mean_quality 30 \\\n",
    "        --cut_front \n",
    "\n",
    "    echo \"Finished processing: $SAMPLE\"\n",
    "done"
   ]
  },
  {
   "cell_type": "markdown",
   "id": "88718668-588b-4f04-ab76-2a18a6b21a3d",
   "metadata": {},
   "source": [
    "# FastQC and multiQC on processed reads"
   ]
  },
  {
   "cell_type": "code",
   "execution_count": null,
   "id": "1707942e-32cd-4bab-8e61-7463cf72a9fa",
   "metadata": {},
   "outputs": [],
   "source": [
    "#Fastqc of the fastp dataset\n",
    "#create directory for the fastqc files\n",
    "! mkdir -p FastQC_aftertrim\n",
    "! fastqc trimmed_fastq/*_fastq.gz -o FastQC_aftertrim/\n",
    "# multiQC on the entire directory \n",
    "! multiqc FastQC_aftertrim/ -n aftertrim_multiqc.html"
   ]
  },
  {
   "cell_type": "markdown",
   "id": "984834a4-e982-4683-9c3c-48eab0a21265",
   "metadata": {},
   "source": [
    "# Building STAR reference genome\n",
    "Genome from https://www.ensembl.org/Homo_sapiens/Info/Index "
   ]
  },
  {
   "cell_type": "code",
   "execution_count": null,
   "id": "647a72a7-7ca1-4350-ab48-32f2d9bc2e79",
   "metadata": {},
   "outputs": [],
   "source": [
    "%%bash\n",
    "\n",
    "gunzip Reference/*.gz \n",
    "\n",
    "mkdir -p human_index\n",
    "\n",
    "STAR --runMode genomeGenerate --genomeDir human_index/ --genomeFastaFiles Reference/Homo_sapiens.GRCh38.dna_sm.primary_assembly.fa \\\n",
    "    --sjdbGTFfile Reference/Homo_sapiens.GRCh38.113.gtf --runThreadN 8"
   ]
  },
  {
   "cell_type": "markdown",
   "id": "f02e264a-e6e7-419a-8b30-2688898ed1a6",
   "metadata": {},
   "source": [
    "Getting the genes names from GTF file"
   ]
  },
  {
   "cell_type": "code",
   "execution_count": null,
   "id": "7616ba61-31c6-4eda-8376-59f4d33086e2",
   "metadata": {},
   "outputs": [],
   "source": [
    "# Extract `gene_id` and `gene_name` from a GTF file and create a clean mapping file.\n",
    "# Remove everything before and including 'gene_id \"' using sed\n",
    "# Replace the text from the first quote (`\"`) after `gene_id` until `gene_name \"` with a tab (`\\t`)\n",
    "# Remove everything from the remaining quote (`\"`) onward\n",
    "# Sort the lines alphabetically and remove duplicate entries\n",
    "# The final output is a tab-separated file (`gene_id_name.mapping.txt`) with unique gene mappings\n",
    "! sed \"s/.*gene_id .//\" Homo_sapiens.GRCh38.113.gtf | sed \"s/\\\".*gene_name ./\\t/\" | sed \"s/\\\".*//\" | sort | uniq > gene_id_name.mapping.txt"
   ]
  },
  {
   "cell_type": "markdown",
   "id": "9bfcf990-f397-432f-b388-1df866cd748a",
   "metadata": {},
   "source": [
    "# Sort out the files from featureCounts\n",
    "Get a nice datafram in csv file"
   ]
  },
  {
   "cell_type": "code",
   "execution_count": null,
   "id": "1bf86dec-278b-43b0-81b0-77820b777d35",
   "metadata": {},
   "outputs": [],
   "source": [
    "import pandas as pd\n",
    "\n",
    "# Load featureCounts file, skipping header lines (lines starting with \"#\")\n",
    "gene_counts_file = \"gene_counts.txt\"\n",
    "df = pd.read_csv(gene_counts_file, sep=\"\\t\", comment=\"#\")\n",
    "\n",
    "# Rename the columns by extracting patient names from file paths\n",
    "df.columns = df.columns.str.replace(r'.*/JOB_TMP/(\\w+)_Aligned.sortedByCoord.out.bam', r'\\1', regex=True)\n",
    "\n",
    "# Set Geneid as index\n",
    "df.set_index(\"Geneid\", inplace=True)\n",
    "\n",
    "\n",
    "df.to_csv(\"gene_counts_cleaned.csv\")\n",
    "\n",
    "counts = df.drop(columns=['Chr','Start','End','Length','Strand'])\n",
    "\n",
    "# Save as CSV for later use\n",
    "counts.to_csv(\"counts_data.csv\")\n",
    "\n",
    "# Display the first few row\n",
    "print(counts.head())\n"
   ]
  },
  {
   "cell_type": "markdown",
   "id": "b9a01876-25b1-4e52-b616-38c8a88f2cc2",
   "metadata": {},
   "source": [
    "# Reove genes that are low expressed"
   ]
  },
  {
   "cell_type": "code",
   "execution_count": null,
   "id": "f1b5a2f6-aa88-41ad-86b9-bd409fffaa5e",
   "metadata": {},
   "outputs": [],
   "source": [
    "import pandas as pd\n",
    "\n",
    "# Load data\n",
    "gene_counts = \"counts_data.csv\"\n",
    "counts = pd.read_csv(gene_counts)\n",
    "\n",
    "# Ensure only numeric columns are summed\n",
    "counts_numeric = counts.select_dtypes(include=\"number\")  \n",
    "\n",
    "# Filter rows where sum > 20\n",
    "counts = counts.loc[counts_numeric.sum(axis=1) > 50, :]\n",
    "\n",
    "# Save the filtered dataset\n",
    "counts.to_csv(\"counts.filtered.csv\", index=False)  # index=False prevents writing row indices"
   ]
  },
  {
   "cell_type": "markdown",
   "id": "4f4291ce-6c2e-4faf-aff9-a8aa8c860102",
   "metadata": {},
   "source": [
    "# PCA"
   ]
  },
  {
   "cell_type": "code",
   "execution_count": null,
   "id": "52585be0-f02c-402b-8d3e-c6ff6ead0219",
   "metadata": {},
   "outputs": [],
   "source": [
    "import pandas as pd\n",
    "import numpy as np\n",
    "import matplotlib.pyplot as plt\n",
    "from sklearn.decomposition import PCA\n",
    "from sklearn.preprocessing import StandardScaler\n",
    "\n",
    "# Load gene expression data\n",
    "gene_counts = pd.read_csv(\"counts.filtered.csv\")\n",
    "gene_counts = gene_counts.set_index(\"Geneid\").T  # Transpose: Patients as rows, Genes as columns\n",
    "gene_counts.index.name = \"PatientNumber\"  # Rename index for reference\n",
    "\n",
    "# Load patient conditions data\n",
    "conditions = pd.read_csv(\"patient_list.csv\")\n",
    "\n",
    "# Ensure patient IDs match (strip spaces and set types)\n",
    "gene_counts.index = gene_counts.index.astype(str).str.strip()\n",
    "conditions[\"PatientNumber\"] = conditions[\"PatientNumber\"].astype(str).str.strip()\n",
    "\n",
    "# Extract patient names and condition into a dictionary, zip pairs the condition and patient together\n",
    "condition_map = dict(zip(conditions[\"PatientNumber\"], conditions[\"HealthCondition\"]))\n",
    "# Map the conditions to the index names (patient names) in gene counts\n",
    "condition_labels = gene_counts.index.map(condition_map)  \n",
    "print(condition_labels) # A list with all the conditions\n",
    "\n",
    "# Convert gene expression data to numeric and fill NaNs\n",
    "X = gene_counts.apply(pd.to_numeric, errors=\"coerce\").fillna(0)\n",
    "\n",
    "# Standardize gene expression values, due to PCA assuming data is normally distrubuted\n",
    "scaler = StandardScaler()\n",
    "X_scaled = scaler.fit_transform(X)\n",
    "\n",
    "# Apply PCA\n",
    "pca = PCA(n_components=2)\n",
    "pca_result = pca.fit_transform(X_scaled)\n",
    "var1, var2 = pca.explained_variance_ratio_*100\n",
    "\n",
    "# Convert PCA output to DataFrame\n",
    "pca_df = pd.DataFrame(data=pca_result, columns=[\"PC1\", \"PC2\"])\n",
    "pca_df[\"Condition\"] = condition_labels.values  # Add conditions\n",
    "pca_df[\"PatientNumber\"] = gene_counts.index  # Add patient labels\n",
    "\n",
    "# Define colors for conditions\n",
    "color_map = {\"Met\": \"red\", \"Hp\": \"blue\"}\n",
    "colors = pca_df[\"Condition\"].map(color_map)\n",
    "\n",
    "# Plot PCA results\n",
    "plt.figure(figsize=(8,6))\n",
    "for condition in pca_df[\"Condition\"].unique():\n",
    "    subset = pca_df[pca_df[\"Condition\"] == condition]\n",
    "    plt.scatter(subset[\"PC1\"], subset[\"PC2\"], label=condition, c=color_map[condition], s=100, edgecolors=\"k\")\n",
    "    #Add the patient numbers to the plot\n",
    "    for i, row in subset.iterrows():\n",
    "        plt.text(row[\"PC1\"], row[\"PC2\"] - 5, row[\"PatientNumber\"], fontsize=8, ha='left', va='top')\n",
    "plt.title(\"PCA of Gene Expression Data\")\n",
    "plt.xlabel(f\"Principal Component 1, Variance explained: {var1:.1f}%\")\n",
    "plt.ylabel(f\"Principal Component 2, Variance explained: {var2:.1f}%\")\n",
    "plt.legend(title=\"Health Condition\")\n",
    "plt.grid(True)\n",
    "\n",
    "plt.savefig(\"pca_plot.pdf\", format=\"pdf\", dpi=300, bbox_inches=\"tight\") #Save pdf\n",
    "\n",
    "plt.show()\n"
   ]
  },
  {
   "cell_type": "markdown",
   "id": "7f03b611-2e87-4024-abe4-cbce763b69ad",
   "metadata": {},
   "source": [
    "# DESeq2"
   ]
  },
  {
   "cell_type": "code",
   "execution_count": null,
   "id": "b041c447-ae2d-42b5-9537-70456a33fcdf",
   "metadata": {},
   "outputs": [],
   "source": [
    "#install rpy2 in order for R to work\n",
    "!pip install rpy2==3.5.11\n",
    "import rpy2\n",
    "%reload_ext rpy2.ipython"
   ]
  },
  {
   "cell_type": "code",
   "execution_count": null,
   "id": "f2b95747-9a5f-4796-8a9f-484eb0e75883",
   "metadata": {},
   "outputs": [],
   "source": [
    "%%R\n",
    "#source the r file\n",
    "source(\"/cephyr/NOBACKUP/groups/bbt045_2025/groups/group_gaswar/DESeq2.r\")\n"
   ]
  },
  {
   "cell_type": "code",
   "execution_count": null,
   "id": "fa4c80df-28f7-40c5-9cbb-940eb6772af3",
   "metadata": {},
   "outputs": [],
   "source": [
    "%%R\n",
    "file.info(\"volcano_plot.pdf\")$size"
   ]
  },
  {
   "cell_type": "markdown",
   "id": "e9751c14-9c3b-4545-b61b-02ff233653f0",
   "metadata": {},
   "source": [
    "# Extract geneIDs and check gene names\n",
    "Store the result as a csv file which was imported into excel for a better overview"
   ]
  },
  {
   "cell_type": "code",
   "execution_count": null,
   "id": "40106409-0a58-4c27-935c-7f3d269cdacf",
   "metadata": {},
   "outputs": [],
   "source": [
    "import pandas as pd\n",
    "\n",
    "gene_id_mapping = \"Reference/gene_id_name.mapping.txt\"\n",
    "DESeq_results = \"sorted_deseq_results.csv\"\n",
    "\n",
    "gene_id = pd.read_csv(gene_id_mapping, sep = \"\\t\", comment=\"#\", header = None)\n",
    "#add column names\n",
    "gene_id.columns = [\"GeneID\",\"Gene\"]\n",
    "DESeq2 = pd.read_csv(DESeq_results, sep = \",\")\n",
    "DESeq2.columns = [\"GeneID\", \"BaseMean\", \"Log2FoldChange\", \"Adjusted_p-value\"]\n",
    "\n",
    "\n",
    "\n",
    "#print(gene_id.iloc[:,0])\n",
    "#print(gene_id.head())\n",
    "#print(DESeq2.head())\n",
    "# List to store matched gene names\n",
    "gene_names_list = []\n",
    "\n",
    "for index, row in DESeq2.iterrows():\n",
    "    GeneID = row[\"GeneID\"]\n",
    "\n",
    "    # Matching the gene IDs to then extract the Gene name\n",
    "    match = gene_id[gene_id[\"GeneID\"] == GeneID][\"Gene\"]\n",
    "\n",
    "    # Append the first matched gene name, if it doesnt get matched then add \"Unknown\"\n",
    "    if not match.empty:\n",
    "        gene_names_list.append(match.iloc[0])  # Get the first match\n",
    "    else:\n",
    "        gene_names_list.append(\"Unknown\")\n",
    "\n",
    "# Adding gene_names_list to original dataframe\n",
    "DESeq2[\"Gene_names\"] = gene_names_list\n",
    "\n",
    "DESeq2.to_csv(\"Significant_genes.csv\", index=False)"
   ]
  },
  {
   "cell_type": "markdown",
   "id": "10c018ef-fbe3-42a6-9cb2-4d0c06564d3a",
   "metadata": {},
   "source": [
    "# Comparing Metaplasia samples based on infection\n",
    "Differential expression analysis comparing infected vs non-infected metaplasia patients."
   ]
  },
  {
   "cell_type": "code",
   "execution_count": null,
   "id": "d2dfe7b7-bde7-4e5a-815b-c4cddb2ab4c6",
   "metadata": {},
   "outputs": [],
   "source": [
    "!pip install rpy2==3.5.11\n",
    "import rpy2\n",
    "%reload_ext rpy2.ipython"
   ]
  },
  {
   "cell_type": "code",
   "execution_count": null,
   "id": "d925c6f4-c99b-44b9-b210-7cb173a0cfc3",
   "metadata": {},
   "outputs": [],
   "source": [
    "%%R\n",
    "#source the r file\n",
    "source(\"/cephyr/NOBACKUP/groups/bbt045_2025/groups/group_gaswar/met_patient.r\")"
   ]
  },
  {
   "cell_type": "markdown",
   "id": "c17ecdc3-e7db-4d20-88e2-bfa464817286",
   "metadata": {},
   "source": [
    "Store results as csv file and associate genes names to the gene IDs"
   ]
  },
  {
   "cell_type": "code",
   "execution_count": null,
   "id": "f2fef2cb-8d47-4870-9e69-5736793271d3",
   "metadata": {},
   "outputs": [],
   "source": [
    "import pandas as pd\n",
    "\n",
    "gene_id_mapping = \"Reference/gene_id_name.mapping.txt\"\n",
    "DESeq_results = \"compare_met_results.csv\"\n",
    "\n",
    "gene_id = pd.read_csv(gene_id_mapping, sep = \"\\t\", comment=\"#\", header = None)\n",
    "gene_id.columns = [\"GeneID\",\"Gene\"]\n",
    "DESeq2 = pd.read_csv(DESeq_results, sep = \",\")\n",
    "DESeq2.columns = [\"GeneID\", \"BaseMean\", \"Log2FoldChange\", \"Adjusted_p-value\"]\n",
    "\n",
    "# List to store matched gene names\n",
    "gene_names_list = []\n",
    "\n",
    "for index, row in DESeq2.iterrows():\n",
    "    GeneID = row[\"GeneID\"]\n",
    "\n",
    "    # Matching the gene IDs to then extract the Gene name\n",
    "    match = gene_id[gene_id[\"GeneID\"] == GeneID][\"Gene\"]\n",
    "\n",
    "    # Append the first matched gene name, if it doesnt get matched then add \"Unknown\"\n",
    "    if not match.empty:\n",
    "        gene_names_list.append(match.iloc[0])  # Get the first match\n",
    "    else:\n",
    "        gene_names_list.append(\"Unknown\")\n",
    "\n",
    "# Adding gene_names_list to original dataframe\n",
    "DESeq2[\"Gene_names\"] = gene_names_list\n",
    "\n",
    "DESeq2.to_csv(\"Significant_met_genes.csv\", index=False)"
   ]
  },
  {
   "cell_type": "markdown",
   "id": "08d4348d-270d-43cf-848d-7b4d7e9e30f1",
   "metadata": {},
   "source": [
    "The CSV-files were further explored in excel"
   ]
  }
 ],
 "metadata": {
  "kernelspec": {
   "display_name": "Python 3 (ipykernel)",
   "language": "python",
   "name": "python3"
  },
  "language_info": {
   "codemirror_mode": {
    "name": "ipython",
    "version": 3
   },
   "file_extension": ".py",
   "mimetype": "text/x-python",
   "name": "python",
   "nbconvert_exporter": "python",
   "pygments_lexer": "ipython3",
   "version": "3.11.11"
  }
 },
 "nbformat": 4,
 "nbformat_minor": 5
}
