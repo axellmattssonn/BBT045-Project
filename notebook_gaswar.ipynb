{
 "cells": [
  {
   "cell_type": "markdown",
   "id": "b492339c-7a3c-4e55-a515-f9a86e20a44c",
   "metadata": {},
   "source": [
    "# Gastric Warriors Differential gene expression analysis"
   ]
  },
  {
   "cell_type": "markdown",
   "id": "c611cf59-304e-4336-900c-819ac8bdac4d",
   "metadata": {},
   "source": [
    "\n",
    "\n",
    "Importing correct files: Using bash\n"
   ]
  },
  {
   "cell_type": "code",
   "execution_count": 20,
   "id": "fa6fbc16-09cb-41b2-baef-2a8cddee4204",
   "metadata": {},
   "outputs": [
    {
     "name": "stderr",
     "output_type": "stream",
     "text": [
      "/usr/share/lmod/lmod/init/bash: /usr/share/lmod/lmod/libexec/addto: /usr/bin/lua: bad interpreter: No such file or directory\n"
     ]
    },
    {
     "name": "stdout",
     "output_type": "stream",
     "text": [
      "Working directory set to /cephyr/NOBACKUP/groups/bbt045_2025/groups/group_gaswar/Data/\n",
      "RNAseq-data in /cephyr/NOBACKUP/groups/bbt045_2025/Projects/Data/RNAseq/\n"
     ]
    }
   ],
   "source": [
    "%%bash\n",
    "\n",
    "workdir=\"/cephyr/NOBACKUP/groups/bbt045_2025/groups/group_gaswar/Data/\"\n",
    "echo \"Working directory set to $workdir\"\n",
    "\n",
    "RNAlist=\"/cephyr/NOBACKUP/groups/bbt045_2025/Projects/Data/RNA-seq-list.txt\"\n",
    "RNAdata=\"/cephyr/NOBACKUP/groups/bbt045_2025/Projects/Data/RNAseq/\"\n",
    "echo \"RNAseq-data in ${RNAdata}\"\n",
    "\n",
    "\n",
    "grep \"Met\" $RNAlist | cut -f 1 > Metaplasia_patients.txt\n",
    "grep \"Hp\" $RNAlist | cut -f 1 >> Metaplasia_patients.txt\n",
    "\n",
    "find $RNAdata -type f -name \"*subset.fastq*\" | grep -Ff Metaplasia_patients.txt | xargs -I {} cp {} \"$workdir\""
   ]
  },
  {
   "cell_type": "markdown",
   "id": "ccf9c36f-dbff-414f-a8c6-d2218d7ed4ac",
   "metadata": {},
   "source": [
    "Now decompress all the files"
   ]
  },
  {
   "cell_type": "code",
   "execution_count": 25,
   "id": "a5acecd9-5780-4b4f-85b8-2326f9eedf39",
   "metadata": {},
   "outputs": [
    {
     "name": "stderr",
     "output_type": "stream",
     "text": [
      "/usr/share/lmod/lmod/init/bash: /usr/share/lmod/lmod/libexec/addto: /usr/bin/lua: bad interpreter: No such file or directory\n"
     ]
    }
   ],
   "source": [
    "%%bash\n",
    "#set the working directory\n",
    "workdir=\"/cephyr/NOBACKUP/groups/bbt045_2025/groups/group_gaswar/Data/\"\n",
    "\n",
    "#use gzip to decrompress the files\n",
    "gzip -d \"${workdir}\"*\n"
   ]
  },
  {
   "cell_type": "code",
   "execution_count": null,
   "id": "a368e190-4d97-4678-8e5e-f5c9dffbb2fb",
   "metadata": {},
   "outputs": [],
   "source": []
  }
 ],
 "metadata": {
  "kernelspec": {
   "display_name": "Python 3 (ipykernel)",
   "language": "python",
   "name": "python3"
  },
  "language_info": {
   "codemirror_mode": {
    "name": "ipython",
    "version": 3
   },
   "file_extension": ".py",
   "mimetype": "text/x-python",
   "name": "python",
   "nbconvert_exporter": "python",
   "pygments_lexer": "ipython3",
   "version": "3.11.11"
  }
 },
 "nbformat": 4,
 "nbformat_minor": 5
}
